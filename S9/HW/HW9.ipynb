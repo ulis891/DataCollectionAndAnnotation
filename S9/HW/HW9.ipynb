{
 "cells":[
  {
   "cell_type":"markdown",
   "source":[
    "# Сбор и разметка данных (семинары)\n",
    "## Урок 9. Инструменты разметки наборов данных\n",
    "\n",
    "\n",
    "**Задание 1.**\n",
    "\n",
    "Выберите датасет, который имеет отношение к вашей области интересов или исследований. Датасет должен содержать неструктурированные данные, требующие разметки для решения конкретной задачи, например, анализа настроений или распознавания именованных сущностей.\n",
    "\n",
    "**Задание 2.**\n",
    "\n",
    "Выполните разметку на основе правил (rule-based labeling) на подмножестве выбранного датасета. Разработайте и реализуйте набор правил или условий, которые позволят автоматически присваивать метки данным на основе определенных шаблонов или критериев.\n",
    "\n",
    "**Задача 3.**\n",
    "\n",
    "Выполните разметку вручную отдельного подмножества выбранного датасета с помощью выбранного вами инструмента разметки.\n",
    "\n",
    "**Задача 4.**\n",
    "\n",
    "Объедините данные, размеченные вручную, с данными, размеченными на основе правил. Объедините два подмножества размеченных данных в один набор данных, сохранив при этом соответствующую структуру и целостность.\n",
    "\n",
    "**Задача 5.**\n",
    "\n",
    "Обучите модель машинного обучения, используя объединенный набор размеченных данных. Разделите датасет на обучающий и тестовый наборы и используйте обучающий набор для обучения модели.\n",
    "\n",
    "**Задача 6.**\n",
    "\n",
    "Оценить эффективность обученной модели на тестовом датасете. Используйте подходящие метрики оценки. Интерпретируйте результаты и проанализируйте эффективность модели в решении задачи разметки."
   ],
   "attachments":{
    
   },
   "metadata":{
    "datalore":{
     "node_id":"OLFBidspxMVP7YtR85P7pJ",
     "type":"MD",
     "hide_input_from_viewers":true,
     "hide_output_from_viewers":true
    }
   }
  },
  {
   "cell_type":"code",
   "source":[
    "from sklearn.feature_extraction.text import TfidfVectorizer\n",
    "from sklearn.linear_model import LogisticRegression\n",
    "from sklearn.model_selection import train_test_split\n",
    "from sklearn.metrics import f1_score\n",
    "import pandas as pd\n",
    "import numpy as np\n",
    "data = pd.read_csv(\"7817_1.csv\")"
   ],
   "execution_count":138,
   "outputs":[
    
   ],
   "metadata":{
    "datalore":{
     "node_id":"GyzTcJTyxA77ooM6gD3ZXP",
     "type":"CODE",
     "hide_input_from_viewers":true,
     "hide_output_from_viewers":true
    }
   }
  },
  {
   "cell_type":"code",
   "source":[
    "data.head()"
   ],
   "execution_count":139,
   "outputs":[
    {
     "data":{
      "text\/html":[
       "<div>\n",
       "<style scoped>\n",
       "    .dataframe tbody tr th:only-of-type {\n",
       "        vertical-align: middle;\n",
       "    }\n",
       "\n",
       "    .dataframe tbody tr th {\n",
       "        vertical-align: top;\n",
       "    }\n",
       "\n",
       "    .dataframe thead th {\n",
       "        text-align: right;\n",
       "    }\n",
       "<\/style>\n",
       "<table border=\"1\" class=\"dataframe\">\n",
       "  <thead>\n",
       "    <tr style=\"text-align: right;\">\n",
       "      <th><\/th>\n",
       "      <th>id<\/th>\n",
       "      <th>asins<\/th>\n",
       "      <th>brand<\/th>\n",
       "      <th>categories<\/th>\n",
       "      <th>colors<\/th>\n",
       "      <th>dateAdded<\/th>\n",
       "      <th>dateUpdated<\/th>\n",
       "      <th>dimension<\/th>\n",
       "      <th>ean<\/th>\n",
       "      <th>keys<\/th>\n",
       "      <th>...<\/th>\n",
       "      <th>reviews.rating<\/th>\n",
       "      <th>reviews.sourceURLs<\/th>\n",
       "      <th>reviews.text<\/th>\n",
       "      <th>reviews.title<\/th>\n",
       "      <th>reviews.userCity<\/th>\n",
       "      <th>reviews.userProvince<\/th>\n",
       "      <th>reviews.username<\/th>\n",
       "      <th>sizes<\/th>\n",
       "      <th>upc<\/th>\n",
       "      <th>weight<\/th>\n",
       "    <\/tr>\n",
       "  <\/thead>\n",
       "  <tbody>\n",
       "    <tr>\n",
       "      <th>0<\/th>\n",
       "      <td>AVpe7AsMilAPnD_xQ78G<\/td>\n",
       "      <td>B00QJDU3KY<\/td>\n",
       "      <td>Amazon<\/td>\n",
       "      <td>Amazon Devices,mazon.co.uk<\/td>\n",
       "      <td>NaN<\/td>\n",
       "      <td>2016-03-08T20:21:53Z<\/td>\n",
       "      <td>2017-07-18T23:52:58Z<\/td>\n",
       "      <td>169 mm x 117 mm x 9.1 mm<\/td>\n",
       "      <td>NaN<\/td>\n",
       "      <td>kindlepaperwhite\/b00qjdu3ky<\/td>\n",
       "      <td>...<\/td>\n",
       "      <td>5.0<\/td>\n",
       "      <td>https:\/\/www.amazon.com\/Kindle-Paperwhite-High-...<\/td>\n",
       "      <td>I initially had trouble deciding between the p...<\/td>\n",
       "      <td>Paperwhite voyage, no regrets!<\/td>\n",
       "      <td>NaN<\/td>\n",
       "      <td>NaN<\/td>\n",
       "      <td>Cristina M<\/td>\n",
       "      <td>NaN<\/td>\n",
       "      <td>NaN<\/td>\n",
       "      <td>205 grams<\/td>\n",
       "    <\/tr>\n",
       "    <tr>\n",
       "      <th>1<\/th>\n",
       "      <td>AVpe7AsMilAPnD_xQ78G<\/td>\n",
       "      <td>B00QJDU3KY<\/td>\n",
       "      <td>Amazon<\/td>\n",
       "      <td>Amazon Devices,mazon.co.uk<\/td>\n",
       "      <td>NaN<\/td>\n",
       "      <td>2016-03-08T20:21:53Z<\/td>\n",
       "      <td>2017-07-18T23:52:58Z<\/td>\n",
       "      <td>169 mm x 117 mm x 9.1 mm<\/td>\n",
       "      <td>NaN<\/td>\n",
       "      <td>kindlepaperwhite\/b00qjdu3ky<\/td>\n",
       "      <td>...<\/td>\n",
       "      <td>5.0<\/td>\n",
       "      <td>https:\/\/www.amazon.com\/Kindle-Paperwhite-High-...<\/td>\n",
       "      <td>Allow me to preface this with a little history...<\/td>\n",
       "      <td>One Simply Could Not Ask For More<\/td>\n",
       "      <td>NaN<\/td>\n",
       "      <td>NaN<\/td>\n",
       "      <td>Ricky<\/td>\n",
       "      <td>NaN<\/td>\n",
       "      <td>NaN<\/td>\n",
       "      <td>205 grams<\/td>\n",
       "    <\/tr>\n",
       "    <tr>\n",
       "      <th>2<\/th>\n",
       "      <td>AVpe7AsMilAPnD_xQ78G<\/td>\n",
       "      <td>B00QJDU3KY<\/td>\n",
       "      <td>Amazon<\/td>\n",
       "      <td>Amazon Devices,mazon.co.uk<\/td>\n",
       "      <td>NaN<\/td>\n",
       "      <td>2016-03-08T20:21:53Z<\/td>\n",
       "      <td>2017-07-18T23:52:58Z<\/td>\n",
       "      <td>169 mm x 117 mm x 9.1 mm<\/td>\n",
       "      <td>NaN<\/td>\n",
       "      <td>kindlepaperwhite\/b00qjdu3ky<\/td>\n",
       "      <td>...<\/td>\n",
       "      <td>4.0<\/td>\n",
       "      <td>https:\/\/www.amazon.com\/Kindle-Paperwhite-High-...<\/td>\n",
       "      <td>I am enjoying it so far. Great for reading. Ha...<\/td>\n",
       "      <td>Great for those that just want an e-reader<\/td>\n",
       "      <td>NaN<\/td>\n",
       "      <td>NaN<\/td>\n",
       "      <td>Tedd Gardiner<\/td>\n",
       "      <td>NaN<\/td>\n",
       "      <td>NaN<\/td>\n",
       "      <td>205 grams<\/td>\n",
       "    <\/tr>\n",
       "    <tr>\n",
       "      <th>3<\/th>\n",
       "      <td>AVpe7AsMilAPnD_xQ78G<\/td>\n",
       "      <td>B00QJDU3KY<\/td>\n",
       "      <td>Amazon<\/td>\n",
       "      <td>Amazon Devices,mazon.co.uk<\/td>\n",
       "      <td>NaN<\/td>\n",
       "      <td>2016-03-08T20:21:53Z<\/td>\n",
       "      <td>2017-07-18T23:52:58Z<\/td>\n",
       "      <td>169 mm x 117 mm x 9.1 mm<\/td>\n",
       "      <td>NaN<\/td>\n",
       "      <td>kindlepaperwhite\/b00qjdu3ky<\/td>\n",
       "      <td>...<\/td>\n",
       "      <td>5.0<\/td>\n",
       "      <td>https:\/\/www.amazon.com\/Kindle-Paperwhite-High-...<\/td>\n",
       "      <td>I bought one of the first Paperwhites and have...<\/td>\n",
       "      <td>Love \/ Hate relationship<\/td>\n",
       "      <td>NaN<\/td>\n",
       "      <td>NaN<\/td>\n",
       "      <td>Dougal<\/td>\n",
       "      <td>NaN<\/td>\n",
       "      <td>NaN<\/td>\n",
       "      <td>205 grams<\/td>\n",
       "    <\/tr>\n",
       "    <tr>\n",
       "      <th>4<\/th>\n",
       "      <td>AVpe7AsMilAPnD_xQ78G<\/td>\n",
       "      <td>B00QJDU3KY<\/td>\n",
       "      <td>Amazon<\/td>\n",
       "      <td>Amazon Devices,mazon.co.uk<\/td>\n",
       "      <td>NaN<\/td>\n",
       "      <td>2016-03-08T20:21:53Z<\/td>\n",
       "      <td>2017-07-18T23:52:58Z<\/td>\n",
       "      <td>169 mm x 117 mm x 9.1 mm<\/td>\n",
       "      <td>NaN<\/td>\n",
       "      <td>kindlepaperwhite\/b00qjdu3ky<\/td>\n",
       "      <td>...<\/td>\n",
       "      <td>5.0<\/td>\n",
       "      <td>https:\/\/www.amazon.com\/Kindle-Paperwhite-High-...<\/td>\n",
       "      <td>I have to say upfront - I don't like coroporat...<\/td>\n",
       "      <td>I LOVE IT<\/td>\n",
       "      <td>NaN<\/td>\n",
       "      <td>NaN<\/td>\n",
       "      <td>Miljan David Tanic<\/td>\n",
       "      <td>NaN<\/td>\n",
       "      <td>NaN<\/td>\n",
       "      <td>205 grams<\/td>\n",
       "    <\/tr>\n",
       "  <\/tbody>\n",
       "<\/table>\n",
       "<p>5 rows × 27 columns<\/p>\n",
       "<\/div>"
      ]
     },
     "metadata":{
      
     },
     "output_type":"display_data"
    }
   ],
   "metadata":{
    "datalore":{
     "node_id":"p8LYdCqHEev8kejhEK4lgB",
     "type":"CODE",
     "hide_input_from_viewers":true,
     "hide_output_from_viewers":true
    }
   }
  },
  {
   "cell_type":"code",
   "source":[
    "data.isnull().sum()"
   ],
   "execution_count":140,
   "outputs":[
    {
     "data":{
      "text\/html":[
       "<pre>id                         0\n",
       "asins                      0\n",
       "brand                      0\n",
       "categories                 0\n",
       "colors                   823\n",
       "dateAdded                  0\n",
       "dateUpdated                0\n",
       "dimension               1032\n",
       "ean                      699\n",
       "keys                       0\n",
       "manufacturer             632\n",
       "manufacturerNumber       695\n",
       "name                       0\n",
       "prices                     0\n",
       "reviews.date             380\n",
       "reviews.doRecommend     1058\n",
       "reviews.numHelpful       697\n",
       "reviews.rating           420\n",
       "reviews.sourceURLs         0\n",
       "reviews.text               0\n",
       "reviews.title             17\n",
       "reviews.userCity        1597\n",
       "reviews.userProvince    1597\n",
       "reviews.username          17\n",
       "sizes                   1597\n",
       "upc                      699\n",
       "weight                   911\n",
       "dtype: int64<\/pre>"
      ]
     },
     "metadata":{
      
     },
     "output_type":"display_data"
    }
   ],
   "metadata":{
    "datalore":{
     "node_id":"pN1seTFN5ceS0Q5ouS6FRl",
     "type":"CODE",
     "hide_input_from_viewers":true,
     "hide_output_from_viewers":true
    }
   }
  },
  {
   "cell_type":"code",
   "source":[
    "data = data[['reviews.text','reviews.rating']]. copy ()\n",
    "data[data['reviews.rating'] < 4]\n",
    "data"
   ],
   "execution_count":141,
   "outputs":[
    {
     "data":{
      "text\/html":[
       "<div>\n",
       "<style scoped>\n",
       "    .dataframe tbody tr th:only-of-type {\n",
       "        vertical-align: middle;\n",
       "    }\n",
       "\n",
       "    .dataframe tbody tr th {\n",
       "        vertical-align: top;\n",
       "    }\n",
       "\n",
       "    .dataframe thead th {\n",
       "        text-align: right;\n",
       "    }\n",
       "<\/style>\n",
       "<table border=\"1\" class=\"dataframe\">\n",
       "  <thead>\n",
       "    <tr style=\"text-align: right;\">\n",
       "      <th><\/th>\n",
       "      <th>reviews.text<\/th>\n",
       "      <th>reviews.rating<\/th>\n",
       "    <\/tr>\n",
       "  <\/thead>\n",
       "  <tbody>\n",
       "    <tr>\n",
       "      <th>0<\/th>\n",
       "      <td>I initially had trouble deciding between the p...<\/td>\n",
       "      <td>5.0<\/td>\n",
       "    <\/tr>\n",
       "    <tr>\n",
       "      <th>1<\/th>\n",
       "      <td>Allow me to preface this with a little history...<\/td>\n",
       "      <td>5.0<\/td>\n",
       "    <\/tr>\n",
       "    <tr>\n",
       "      <th>2<\/th>\n",
       "      <td>I am enjoying it so far. Great for reading. Ha...<\/td>\n",
       "      <td>4.0<\/td>\n",
       "    <\/tr>\n",
       "    <tr>\n",
       "      <th>3<\/th>\n",
       "      <td>I bought one of the first Paperwhites and have...<\/td>\n",
       "      <td>5.0<\/td>\n",
       "    <\/tr>\n",
       "    <tr>\n",
       "      <th>4<\/th>\n",
       "      <td>I have to say upfront - I don't like coroporat...<\/td>\n",
       "      <td>5.0<\/td>\n",
       "    <\/tr>\n",
       "    <tr>\n",
       "      <th>...<\/th>\n",
       "      <td>...<\/td>\n",
       "      <td>...<\/td>\n",
       "    <\/tr>\n",
       "    <tr>\n",
       "      <th>1592<\/th>\n",
       "      <td>This is not the same remote that I got for my ...<\/td>\n",
       "      <td>3.0<\/td>\n",
       "    <\/tr>\n",
       "    <tr>\n",
       "      <th>1593<\/th>\n",
       "      <td>I have had to change the batteries in this rem...<\/td>\n",
       "      <td>1.0<\/td>\n",
       "    <\/tr>\n",
       "    <tr>\n",
       "      <th>1594<\/th>\n",
       "      <td>Remote did not activate, nor did it connect to...<\/td>\n",
       "      <td>1.0<\/td>\n",
       "    <\/tr>\n",
       "    <tr>\n",
       "      <th>1595<\/th>\n",
       "      <td>It does the job but is super over priced. I fe...<\/td>\n",
       "      <td>3.0<\/td>\n",
       "    <\/tr>\n",
       "    <tr>\n",
       "      <th>1596<\/th>\n",
       "      <td>I ordered this item to replace the one that no...<\/td>\n",
       "      <td>1.0<\/td>\n",
       "    <\/tr>\n",
       "  <\/tbody>\n",
       "<\/table>\n",
       "<p>1597 rows × 2 columns<\/p>\n",
       "<\/div>"
      ]
     },
     "metadata":{
      
     },
     "output_type":"display_data"
    }
   ],
   "metadata":{
    "datalore":{
     "node_id":"TBlgjvBPFxv2sAZmkKmHDi",
     "type":"CODE",
     "hide_input_from_viewers":true,
     "hide_output_from_viewers":true
    }
   }
  },
  {
   "cell_type":"code",
   "source":[
    "def rule_rating(row):\n",
    "    if row[\"reviews.rating\"] > 3:\n",
    "        return  1\n",
    "    elif row[\"reviews.rating\"] <= 3: \n",
    "        return  0"
   ],
   "execution_count":142,
   "outputs":[
    
   ],
   "metadata":{
    "datalore":{
     "node_id":"GkaTTKdWZiE5EdhG5ndTcR",
     "type":"CODE",
     "hide_input_from_viewers":true,
     "hide_output_from_viewers":true
    }
   }
  },
  {
   "cell_type":"code",
   "source":[
    "data[\"Rating_label\"] = data.apply(rule_rating, axis=1)"
   ],
   "execution_count":143,
   "outputs":[
    
   ],
   "metadata":{
    "datalore":{
     "node_id":"zG8rIb6C5Y31AkO5UGvdG9",
     "type":"CODE",
     "hide_input_from_viewers":true,
     "hide_output_from_viewers":true
    }
   }
  },
  {
   "cell_type":"code",
   "source":[
    "data['Rating_label'].hist()"
   ],
   "execution_count":144,
   "outputs":[
    {
     "data":{
      "text\/plain":[
       "<Axes: >"
      ]
     },
     "metadata":{
      
     },
     "output_type":"display_data"
    },
    {
     "data":{
      "image\/png":"[encoded data removed]"
     },
     "metadata":{
      "image\/png":{
       
      }
     },
     "output_type":"display_data"
    }
   ],
   "metadata":{
    "datalore":{
     "node_id":"Ms1Y6gsS7o1BJGgPlOIHDg",
     "type":"CODE",
     "hide_input_from_viewers":true,
     "hide_output_from_viewers":true
    }
   }
  },
  {
   "cell_type":"code",
   "source":[
    "data = data[data['reviews.rating'].notnull()]\n",
    "data"
   ],
   "execution_count":145,
   "outputs":[
    {
     "data":{
      "text\/html":[
       "<div>\n",
       "<style scoped>\n",
       "    .dataframe tbody tr th:only-of-type {\n",
       "        vertical-align: middle;\n",
       "    }\n",
       "\n",
       "    .dataframe tbody tr th {\n",
       "        vertical-align: top;\n",
       "    }\n",
       "\n",
       "    .dataframe thead th {\n",
       "        text-align: right;\n",
       "    }\n",
       "<\/style>\n",
       "<table border=\"1\" class=\"dataframe\">\n",
       "  <thead>\n",
       "    <tr style=\"text-align: right;\">\n",
       "      <th><\/th>\n",
       "      <th>reviews.text<\/th>\n",
       "      <th>reviews.rating<\/th>\n",
       "      <th>Rating_label<\/th>\n",
       "    <\/tr>\n",
       "  <\/thead>\n",
       "  <tbody>\n",
       "    <tr>\n",
       "      <th>0<\/th>\n",
       "      <td>I initially had trouble deciding between the p...<\/td>\n",
       "      <td>5.0<\/td>\n",
       "      <td>1.0<\/td>\n",
       "    <\/tr>\n",
       "    <tr>\n",
       "      <th>1<\/th>\n",
       "      <td>Allow me to preface this with a little history...<\/td>\n",
       "      <td>5.0<\/td>\n",
       "      <td>1.0<\/td>\n",
       "    <\/tr>\n",
       "    <tr>\n",
       "      <th>2<\/th>\n",
       "      <td>I am enjoying it so far. Great for reading. Ha...<\/td>\n",
       "      <td>4.0<\/td>\n",
       "      <td>1.0<\/td>\n",
       "    <\/tr>\n",
       "    <tr>\n",
       "      <th>3<\/th>\n",
       "      <td>I bought one of the first Paperwhites and have...<\/td>\n",
       "      <td>5.0<\/td>\n",
       "      <td>1.0<\/td>\n",
       "    <\/tr>\n",
       "    <tr>\n",
       "      <th>4<\/th>\n",
       "      <td>I have to say upfront - I don't like coroporat...<\/td>\n",
       "      <td>5.0<\/td>\n",
       "      <td>1.0<\/td>\n",
       "    <\/tr>\n",
       "    <tr>\n",
       "      <th>...<\/th>\n",
       "      <td>...<\/td>\n",
       "      <td>...<\/td>\n",
       "      <td>...<\/td>\n",
       "    <\/tr>\n",
       "    <tr>\n",
       "      <th>1592<\/th>\n",
       "      <td>This is not the same remote that I got for my ...<\/td>\n",
       "      <td>3.0<\/td>\n",
       "      <td>0.0<\/td>\n",
       "    <\/tr>\n",
       "    <tr>\n",
       "      <th>1593<\/th>\n",
       "      <td>I have had to change the batteries in this rem...<\/td>\n",
       "      <td>1.0<\/td>\n",
       "      <td>0.0<\/td>\n",
       "    <\/tr>\n",
       "    <tr>\n",
       "      <th>1594<\/th>\n",
       "      <td>Remote did not activate, nor did it connect to...<\/td>\n",
       "      <td>1.0<\/td>\n",
       "      <td>0.0<\/td>\n",
       "    <\/tr>\n",
       "    <tr>\n",
       "      <th>1595<\/th>\n",
       "      <td>It does the job but is super over priced. I fe...<\/td>\n",
       "      <td>3.0<\/td>\n",
       "      <td>0.0<\/td>\n",
       "    <\/tr>\n",
       "    <tr>\n",
       "      <th>1596<\/th>\n",
       "      <td>I ordered this item to replace the one that no...<\/td>\n",
       "      <td>1.0<\/td>\n",
       "      <td>0.0<\/td>\n",
       "    <\/tr>\n",
       "  <\/tbody>\n",
       "<\/table>\n",
       "<p>1177 rows × 3 columns<\/p>\n",
       "<\/div>"
      ]
     },
     "metadata":{
      
     },
     "output_type":"display_data"
    }
   ],
   "metadata":{
    "datalore":{
     "node_id":"5uokpZWarWnvNE8Jw5oAXl",
     "type":"CODE",
     "hide_input_from_viewers":true,
     "hide_output_from_viewers":true
    }
   }
  },
  {
   "cell_type":"code",
   "source":[
    "labeled_reviews, unlabeled_reviews = train_test_split(data, train_size=0.5, random_state=56)"
   ],
   "execution_count":146,
   "outputs":[
    
   ],
   "metadata":{
    "datalore":{
     "node_id":"Dwyqhh1TCaT1FwDsD3030V",
     "type":"CODE",
     "hide_input_from_viewers":true,
     "hide_output_from_viewers":true
    }
   }
  },
  {
   "cell_type":"code",
   "source":[
    "def train_model(labaled_data):\n",
    "    vect = TfidfVectorizer()\n",
    "    x = vect.fit_transform(labaled_data['reviews.text'])\n",
    "    y = labaled_data['Rating_label']\n",
    "    model = LogisticRegression()\n",
    "    model.fit(x,y)\n",
    "    return model, vect\n",
    "\n",
    "model, vect = train_model(labeled_reviews)"
   ],
   "execution_count":147,
   "outputs":[
    
   ],
   "metadata":{
    "datalore":{
     "node_id":"x6GQOXgl42FCtnAPL2rsTq",
     "type":"CODE",
     "hide_input_from_viewers":true,
     "hide_output_from_viewers":true
    }
   }
  },
  {
   "cell_type":"code",
   "source":[
    "x_unlabeled = vect.transform(unlabeled_reviews['reviews.text'])\n",
    "y_unlabeled_predicted = model.predict(x_unlabeled)"
   ],
   "execution_count":148,
   "outputs":[
    
   ],
   "metadata":{
    "datalore":{
     "node_id":"4ujnV5QABJWrbYFtJgKp9D",
     "type":"CODE",
     "hide_input_from_viewers":true,
     "hide_output_from_viewers":true
    }
   }
  },
  {
   "cell_type":"code",
   "source":[
    "y_unlabeled_proba = model.predict_proba(x_unlabeled)\n",
    "uncertainly = -(y_unlabeled_proba * np.log2(y_unlabeled_proba)).sum(axis=1)"
   ],
   "execution_count":149,
   "outputs":[
    
   ],
   "metadata":{
    "datalore":{
     "node_id":"JaV7hfXsClwCk4kQZRuCvC",
     "type":"CODE",
     "hide_input_from_viewers":true,
     "hide_output_from_viewers":true
    }
   }
  },
  {
   "cell_type":"code",
   "source":[
    "uncertainly"
   ],
   "execution_count":150,
   "outputs":[
    {
     "data":{
      "text\/html":[
       "<pre>array([0.72454311, 0.51376282, 0.57844081, 0.70554491, 0.5548184 ,\n",
       "       0.74345218, 0.73497813, 0.64328101, 0.73841751, 0.58994059,\n",
       "       0.53288462, 0.52688091, 0.49058158, 0.52397031, 0.53833694,\n",
       "       0.72804079, 0.40693874, 0.44804367, 0.7496287 , 0.99670486,\n",
       "       0.4613849 , 0.56231735, 0.73087683, 0.53663986, 0.44378918,\n",
       "       0.67802446, 0.74524154, 0.63250809, 0.64590216, 0.64827353,\n",
       "       0.50759146, 0.5401531 , 0.40981217, 0.60562479, 0.613733  ,\n",
       "       0.47178675, 0.72529422, 0.65346142, 0.53663986, 0.78441161,\n",
       "       0.65311249, 0.52688091, 0.72554139, 0.44556874, 0.63162306,\n",
       "       0.72105256, 0.51086655, 0.68311378, 0.7686628 , 0.40266889,\n",
       "       0.64383097, 0.48141095, 0.41657774, 0.55006496, 0.61608715,\n",
       "       0.42609639, 0.92323984, 0.69210711, 0.41258544, 0.85730536,\n",
       "       0.70474546, 0.49539681, 0.59992178, 0.62431806, 0.6879064 ,\n",
       "       0.50416051, 0.78485765, 0.49833494, 0.58264849, 0.56026928,\n",
       "       0.7618359 , 0.5222697 , 0.32696786, 0.49539681, 0.66135862,\n",
       "       0.63030411, 0.56794879, 0.45884572, 0.45161942, 0.58207464,\n",
       "       0.54075541, 0.47165446, 0.50806045, 0.4895395 , 0.55311414,\n",
       "       0.45161942, 0.77976763, 0.6652504 , 0.65194421, 0.43710485,\n",
       "       0.28857988, 0.72693479, 0.74418164, 0.51582801, 0.77328265,\n",
       "       0.59916792, 0.48141095, 0.5503072 , 0.71384973, 0.51895463,\n",
       "       0.48038296, 0.46608523, 0.44948727, 0.60106114, 0.98872385,\n",
       "       0.56026928, 0.81707034, 0.54385291, 0.62441563, 0.6278055 ,\n",
       "       0.7543827 , 0.43358235, 0.51369858, 0.57667342, 0.45785308,\n",
       "       0.67634378, 0.55781018, 0.69222033, 0.56794879, 0.57303612,\n",
       "       0.52024021, 0.72564313, 0.55137017, 0.77328265, 0.50329205,\n",
       "       0.77328265, 0.64085552, 0.45183338, 0.61377672, 0.57982034,\n",
       "       0.65912761, 0.51944855, 0.49539681, 0.68001438, 0.52905495,\n",
       "       0.64886333, 0.46889532, 0.80773386, 0.54734404, 0.44804367,\n",
       "       0.56907196, 0.56436015, 0.55311414, 0.63534527, 0.56026928,\n",
       "       0.58994059, 0.77114751, 0.40315261, 0.49731066, 0.6780739 ,\n",
       "       0.49714087, 0.52688091, 0.51751136, 0.60623358, 0.76584342,\n",
       "       0.75420117, 0.77328265, 0.79681375, 0.49539681, 0.43149799,\n",
       "       0.61567024, 0.70856668, 0.75000403, 0.65373693, 0.45183338,\n",
       "       0.83334181, 0.63534527, 0.5507644 , 0.74974986, 0.7822757 ,\n",
       "       0.71373198, 0.45183338, 0.48820009, 0.55450588, 0.6410597 ,\n",
       "       0.75974007, 0.74524154, 0.6021386 , 0.56907896, 0.70196846,\n",
       "       0.50551933, 0.54985784, 0.6188042 , 0.49115198, 0.66340364,\n",
       "       0.5371309 , 0.49940468, 0.7204183 , 0.60049168, 0.75904242,\n",
       "       0.56026928, 0.52688091, 0.77328265, 0.98872385, 0.63030411,\n",
       "       0.60358642, 0.56576545, 0.54560471, 0.60207442, 0.56907896,\n",
       "       0.50642717, 0.68762751, 0.77328265, 0.52688091, 0.77146073,\n",
       "       0.72136078, 0.79652349, 0.77328265, 0.62332454, 0.54728723,\n",
       "       0.52766538, 0.5420224 , 0.77328265, 0.85193466, 0.77328265,\n",
       "       0.49161716, 0.77328265, 0.46913748, 0.54166749, 0.64579438,\n",
       "       0.70159057, 0.79681375, 0.47588907, 0.59349962, 0.47858034,\n",
       "       0.68036644, 0.65017748, 0.39898629, 0.3887666 , 0.40265012,\n",
       "       0.55677561, 0.53050508, 0.73323697, 0.67706631, 0.79115341,\n",
       "       0.67802446, 0.64718385, 0.68429052, 0.65746897, 0.63466444,\n",
       "       0.77328265, 0.45090267, 0.46977221, 0.62305403, 0.52938187,\n",
       "       0.77221069, 0.58644464, 0.77328265, 0.55311414, 0.71936375,\n",
       "       0.54878912, 0.65912761, 0.7498273 , 0.44417105, 0.48587179,\n",
       "       0.58011568, 0.45476543, 0.5071469 , 0.37523026, 0.58187351,\n",
       "       0.57025293, 0.81351865, 0.98528587, 0.38337068, 0.56907896,\n",
       "       0.70107957, 0.5112068 , 0.52688091, 0.45643615, 0.65624402,\n",
       "       0.59467972, 0.63423521, 0.63067978, 0.63351251, 0.77328265,\n",
       "       0.48097826, 0.53324798, 0.38097235, 0.70074548, 0.61841921,\n",
       "       0.74257214, 0.48537991, 0.7169269 , 0.64878068, 0.49209317,\n",
       "       0.52440572, 0.7364617 , 0.81769986, 0.55155706, 0.50160325,\n",
       "       0.62717584, 0.61789442, 0.59282488, 0.64736409, 0.3857125 ,\n",
       "       0.52938187, 0.6864722 , 0.54927522, 0.51125001, 0.29595109,\n",
       "       0.60379436, 0.48059138, 0.79239788, 0.56951519, 0.38317146,\n",
       "       0.48141095, 0.51153191, 0.56026928, 0.66485137, 0.62535755,\n",
       "       0.51443071, 0.61464371, 0.46118485, 0.64698022, 0.52966529,\n",
       "       0.7496832 , 0.743517  , 0.46557513, 0.61572707, 0.88057137,\n",
       "       0.59302955, 0.73994354, 0.62593541, 0.56026928, 0.61320549,\n",
       "       0.64039665, 0.57281664, 0.47943147, 0.56026928, 0.55311414,\n",
       "       0.42375149, 0.3964437 , 0.4438624 , 0.47339425, 0.58438644,\n",
       "       0.55923818, 0.47501389, 0.48193728, 0.65888509, 0.69999911,\n",
       "       0.46211455, 0.44071291, 0.57884957, 0.52982828, 0.40326366,\n",
       "       0.53857833, 0.74017446, 0.77328265, 0.74418164, 0.61520977,\n",
       "       0.49539681, 0.4021562 , 0.64698022, 0.60931611, 0.42197368,\n",
       "       0.72105526, 0.38897739, 0.58817091, 0.56540837, 0.7717972 ,\n",
       "       0.51342458, 0.49696624, 0.5460004 , 0.48141095, 0.5677824 ,\n",
       "       0.56026928, 0.43362742, 0.65346142, 0.56763256, 0.52565287,\n",
       "       0.56794879, 0.58974361, 0.78812761, 0.92094349, 0.56026928,\n",
       "       0.46913748, 0.56026928, 0.63030411, 0.44462749, 0.52688091,\n",
       "       0.69601478, 0.48858688, 0.67634663, 0.77328265, 0.75904938,\n",
       "       0.45441614, 0.55573735, 0.45183338, 0.49843683, 0.87278906,\n",
       "       0.59212419, 0.43149799, 0.81351865, 0.39664702, 0.60881048,\n",
       "       0.56397666, 0.76175069, 0.69127866, 0.48447078, 0.89214144,\n",
       "       0.88057137, 0.99670486, 0.68031043, 0.6959387 , 0.5563676 ,\n",
       "       0.4906815 , 0.72828212, 0.71060256, 0.38862026, 0.72330309,\n",
       "       0.60087639, 0.49422591, 0.47858034, 0.67853218, 0.71997697,\n",
       "       0.48389159, 0.53050801, 0.49240844, 0.59171936, 0.7018181 ,\n",
       "       0.64736409, 0.54318459, 0.6169327 , 0.68938562, 0.47588907,\n",
       "       0.58738503, 0.58868176, 0.45183338, 0.62994822, 0.66637287,\n",
       "       0.52688091, 0.51686882, 0.515397  , 0.54556495, 0.29222177,\n",
       "       0.57453754, 0.59192915, 0.70272151, 0.77328265, 0.64698022,\n",
       "       0.50263675, 0.50514745, 0.49539681, 0.49539681, 0.56328264,\n",
       "       0.78289259, 0.70814086, 0.59185458, 0.63534527, 0.37071359,\n",
       "       0.5399768 , 0.58008209, 0.58994059, 0.47969198, 0.48100338,\n",
       "       0.52043958, 0.48932397, 0.58926089, 0.49509951, 0.57988802,\n",
       "       0.60581842, 0.65513301, 0.77140887, 0.44558729, 0.48038296,\n",
       "       0.60917032, 0.66427774, 0.77328265, 0.42934022, 0.4467781 ,\n",
       "       0.59096975, 0.4969327 , 0.51164186, 0.70840089, 0.51023029,\n",
       "       0.6212988 , 0.64431041, 0.65562318, 0.79652349, 0.65517319,\n",
       "       0.51700086, 0.56026928, 0.59478063, 0.67921589, 0.51478853,\n",
       "       0.86653227, 0.83420803, 0.59309165, 0.68763511, 0.56026928,\n",
       "       0.56794879, 0.5927856 , 0.52905495, 0.73721644, 0.65895692,\n",
       "       0.62403803, 0.66327292, 0.63479724, 0.45229368, 0.72885985,\n",
       "       0.65073337, 0.67790614, 0.73383924, 0.73994354, 0.63534527,\n",
       "       0.49320009, 0.64184827, 0.56936519, 0.41131007, 0.59185458,\n",
       "       0.52688091, 0.5336621 , 0.50810198, 0.68005718, 0.33282577,\n",
       "       0.51478853, 0.57821038, 0.56394641, 0.45678992, 0.55021244,\n",
       "       0.56573858, 0.6250969 , 0.47814602, 0.36636527, 0.55641382,\n",
       "       0.82990088, 0.59656354, 0.62636184, 0.44247329, 0.68956323,\n",
       "       0.47053807, 0.56026928, 0.4969327 , 0.66624939, 0.98528587,\n",
       "       0.50046849, 0.63936812, 0.64869631, 0.50490545, 0.46270598,\n",
       "       0.52982828, 0.48838009, 0.64850498, 0.62890106, 0.49539681,\n",
       "       0.77328265, 0.60612491, 0.47410151, 0.55311414, 0.51801865,\n",
       "       0.44193807, 0.36859234, 0.51521071, 0.83016834, 0.77328265,\n",
       "       0.5338046 , 0.62697708, 0.61780251, 0.59574856, 0.5460004 ,\n",
       "       0.63423521, 0.65596386, 0.4009159 , 0.78239662, 0.42868143,\n",
       "       0.49411593, 0.4765458 , 0.65912761, 0.71501833, 0.69261332,\n",
       "       0.45183338, 0.49817078, 0.39213407, 0.58325262, 0.53309719,\n",
       "       0.53325189, 0.56956734, 0.43451089, 0.45161942, 0.5427317 ,\n",
       "       0.63691948, 0.77328265, 0.59508487, 0.63534527, 0.86627923,\n",
       "       0.5428216 , 0.4765581 , 0.51469851, 0.55931221])<\/pre>"
      ]
     },
     "metadata":{
      
     },
     "output_type":"display_data"
    }
   ],
   "metadata":{
    "datalore":{
     "node_id":"BFBHeezCZOT5OR7LA3Myij",
     "type":"CODE",
     "hide_input_from_viewers":true,
     "hide_output_from_viewers":true
    }
   }
  },
  {
   "cell_type":"code",
   "source":[
    "labeled_reviews_new = unlabeled_reviews.iloc[uncertainly.argsort()[:100]]\n",
    "unlabeled_reviews_new = unlabeled_reviews.iloc[uncertainly.argsort()[100:]]"
   ],
   "execution_count":151,
   "outputs":[
    
   ],
   "metadata":{
    "datalore":{
     "node_id":"ONpOaYUrflnukSkAKkDjms",
     "type":"CODE",
     "hide_input_from_viewers":true,
     "hide_output_from_viewers":true
    }
   }
  },
  {
   "cell_type":"code",
   "source":[
    "labeled_reviews = pd.concat([labeled_reviews, labeled_reviews_new])"
   ],
   "execution_count":152,
   "outputs":[
    
   ],
   "metadata":{
    "datalore":{
     "node_id":"rC3rfEKcTBVzsv6CcwG61X",
     "type":"CODE",
     "hide_input_from_viewers":true,
     "hide_output_from_viewers":true
    }
   }
  },
  {
   "cell_type":"code",
   "source":[
    "model, vect = train_model(labeled_reviews)"
   ],
   "execution_count":153,
   "outputs":[
    
   ],
   "metadata":{
    "datalore":{
     "node_id":"KJIv0GRA19wbaWM8IhszY2",
     "type":"CODE",
     "hide_input_from_viewers":true,
     "hide_output_from_viewers":true
    }
   }
  },
  {
   "cell_type":"code",
   "source":[
    "reviews_test = unlabeled_reviews\n",
    "reviews_test"
   ],
   "execution_count":154,
   "outputs":[
    {
     "data":{
      "text\/html":[
       "<div>\n",
       "<style scoped>\n",
       "    .dataframe tbody tr th:only-of-type {\n",
       "        vertical-align: middle;\n",
       "    }\n",
       "\n",
       "    .dataframe tbody tr th {\n",
       "        vertical-align: top;\n",
       "    }\n",
       "\n",
       "    .dataframe thead th {\n",
       "        text-align: right;\n",
       "    }\n",
       "<\/style>\n",
       "<table border=\"1\" class=\"dataframe\">\n",
       "  <thead>\n",
       "    <tr style=\"text-align: right;\">\n",
       "      <th><\/th>\n",
       "      <th>reviews.text<\/th>\n",
       "      <th>reviews.rating<\/th>\n",
       "      <th>Rating_label<\/th>\n",
       "    <\/tr>\n",
       "  <\/thead>\n",
       "  <tbody>\n",
       "    <tr>\n",
       "      <th>680<\/th>\n",
       "      <td>This is quite the steal! As already pointed ou...<\/td>\n",
       "      <td>5.0<\/td>\n",
       "      <td>1.0<\/td>\n",
       "    <\/tr>\n",
       "    <tr>\n",
       "      <th>909<\/th>\n",
       "      <td>Love the fact that it has a rechargeable batte...<\/td>\n",
       "      <td>5.0<\/td>\n",
       "      <td>1.0<\/td>\n",
       "    <\/tr>\n",
       "    <tr>\n",
       "      <th>691<\/th>\n",
       "      <td>Having a tablet or a phone is inevitable in ou...<\/td>\n",
       "      <td>5.0<\/td>\n",
       "      <td>1.0<\/td>\n",
       "    <\/tr>\n",
       "    <tr>\n",
       "      <th>1411<\/th>\n",
       "      <td>So far, this is doing what I wanted it to. I p...<\/td>\n",
       "      <td>5.0<\/td>\n",
       "      <td>1.0<\/td>\n",
       "    <\/tr>\n",
       "    <tr>\n",
       "      <th>674<\/th>\n",
       "      <td>The Fire HD 8 kids tablet is essentially an HD...<\/td>\n",
       "      <td>5.0<\/td>\n",
       "      <td>1.0<\/td>\n",
       "    <\/tr>\n",
       "    <tr>\n",
       "      <th>...<\/th>\n",
       "      <td>...<\/td>\n",
       "      <td>...<\/td>\n",
       "      <td>...<\/td>\n",
       "    <\/tr>\n",
       "    <tr>\n",
       "      <th>1138<\/th>\n",
       "      <td>Doesn't understand some commands or Questions,...<\/td>\n",
       "      <td>3.0<\/td>\n",
       "      <td>0.0<\/td>\n",
       "    <\/tr>\n",
       "    <tr>\n",
       "      <th>1247<\/th>\n",
       "      <td>I was looking for just a Bluetooth speaker to ...<\/td>\n",
       "      <td>5.0<\/td>\n",
       "      <td>1.0<\/td>\n",
       "    <\/tr>\n",
       "    <tr>\n",
       "      <th>954<\/th>\n",
       "      <td>This item is exactly what I was looking for. I...<\/td>\n",
       "      <td>5.0<\/td>\n",
       "      <td>1.0<\/td>\n",
       "    <\/tr>\n",
       "    <tr>\n",
       "      <th>542<\/th>\n",
       "      <td>I bought this along with a fire tablet I purch...<\/td>\n",
       "      <td>5.0<\/td>\n",
       "      <td>1.0<\/td>\n",
       "    <\/tr>\n",
       "    <tr>\n",
       "      <th>1040<\/th>\n",
       "      <td>Bought it as a gift, she loves it. Very entert...<\/td>\n",
       "      <td>5.0<\/td>\n",
       "      <td>1.0<\/td>\n",
       "    <\/tr>\n",
       "  <\/tbody>\n",
       "<\/table>\n",
       "<p>589 rows × 3 columns<\/p>\n",
       "<\/div>"
      ]
     },
     "metadata":{
      
     },
     "output_type":"display_data"
    }
   ],
   "metadata":{
    "datalore":{
     "node_id":"OAUqtNaYasCRApKysS4TOI",
     "type":"CODE",
     "hide_input_from_viewers":true,
     "hide_output_from_viewers":true
    }
   }
  },
  {
   "cell_type":"code",
   "source":[
    "x_test = vect.transform(reviews_test['reviews.text'])\n",
    "y_test_predicted = model.predict(x_test)\n",
    "y_test_predicted"
   ],
   "execution_count":155,
   "outputs":[
    {
     "data":{
      "text\/html":[
       "<pre>array([1., 1., 1., 1., 1., 1., 1., 1., 1., 1., 1., 1., 1., 1., 1., 1., 1.,\n",
       "       1., 1., 0., 1., 1., 1., 1., 1., 1., 1., 1., 1., 1., 1., 1., 1., 1.,\n",
       "       1., 1., 1., 1., 1., 1., 1., 1., 1., 1., 1., 1., 1., 1., 1., 1., 1.,\n",
       "       1., 1., 1., 1., 1., 1., 1., 1., 1., 1., 1., 1., 1., 1., 1., 1., 1.,\n",
       "       1., 1., 1., 1., 1., 1., 1., 1., 1., 1., 1., 1., 1., 1., 1., 1., 1.,\n",
       "       1., 1., 1., 1., 1., 1., 1., 1., 1., 0., 1., 1., 1., 1., 1., 1., 1.,\n",
       "       1., 1., 1., 1., 1., 1., 1., 1., 1., 1., 1., 1., 1., 1., 1., 1., 1.,\n",
       "       1., 1., 1., 1., 0., 1., 0., 1., 1., 1., 1., 1., 1., 1., 1., 1., 1.,\n",
       "       1., 1., 1., 1., 1., 1., 1., 1., 1., 1., 1., 1., 1., 1., 1., 1., 1.,\n",
       "       1., 1., 1., 0., 1., 1., 1., 1., 1., 1., 1., 1., 1., 1., 1., 1., 1.,\n",
       "       1., 1., 1., 1., 1., 1., 1., 1., 1., 1., 1., 1., 1., 1., 1., 1., 1.,\n",
       "       1., 1., 1., 1., 1., 0., 1., 1., 1., 1., 1., 1., 1., 1., 1., 0., 1.,\n",
       "       1., 1., 1., 0., 1., 1., 1., 1., 0., 1., 0., 1., 0., 1., 1., 1., 1.,\n",
       "       1., 1., 1., 1., 1., 1., 1., 1., 1., 1., 1., 1., 1., 1., 1., 1., 1.,\n",
       "       1., 1., 0., 1., 1., 1., 1., 1., 1., 0., 1., 1., 1., 1., 1., 1., 1.,\n",
       "       1., 1., 1., 1., 1., 1., 1., 1., 1., 1., 1., 1., 1., 1., 1., 1., 1.,\n",
       "       1., 1., 0., 1., 1., 1., 1., 1., 1., 1., 1., 1., 1., 1., 1., 1., 1.,\n",
       "       1., 1., 1., 1., 1., 1., 1., 1., 1., 1., 1., 1., 1., 1., 1., 1., 1.,\n",
       "       1., 1., 1., 1., 1., 1., 1., 1., 1., 1., 1., 1., 1., 1., 1., 1., 1.,\n",
       "       1., 1., 1., 1., 1., 1., 1., 1., 1., 1., 1., 1., 1., 1., 1., 1., 1.,\n",
       "       1., 1., 1., 1., 1., 1., 1., 0., 1., 1., 1., 1., 1., 1., 1., 1., 1.,\n",
       "       1., 1., 1., 1., 1., 1., 1., 1., 1., 1., 1., 1., 1., 1., 1., 1., 1.,\n",
       "       1., 1., 1., 1., 1., 1., 1., 1., 1., 0., 1., 1., 1., 1., 1., 1., 1.,\n",
       "       1., 1., 1., 1., 1., 1., 1., 1., 1., 1., 0., 1., 1., 1., 1., 1., 1.,\n",
       "       1., 1., 1., 1., 1., 1., 1., 1., 1., 1., 1., 1., 1., 1., 1., 1., 1.,\n",
       "       1., 1., 1., 1., 1., 1., 1., 1., 1., 1., 1., 1., 1., 0., 1., 1., 1.,\n",
       "       1., 1., 1., 1., 1., 1., 1., 1., 1., 1., 1., 1., 1., 1., 1., 1., 1.,\n",
       "       1., 1., 1., 1., 1., 1., 1., 1., 0., 1., 1., 1., 1., 1., 1., 1., 1.,\n",
       "       1., 1., 1., 1., 1., 1., 1., 1., 1., 1., 1., 1., 1., 1., 1., 1., 1.,\n",
       "       1., 1., 1., 1., 1., 1., 1., 1., 1., 1., 1., 1., 1., 1., 1., 1., 1.,\n",
       "       1., 1., 1., 1., 1., 1., 1., 1., 1., 1., 1., 1., 1., 1., 1., 1., 1.,\n",
       "       1., 1., 1., 1., 1., 1., 1., 1., 1., 1., 1., 1., 1., 1., 1., 1., 1.,\n",
       "       1., 0., 1., 1., 1., 1., 1., 1., 1., 1., 0., 1., 1., 1., 1., 1., 1.,\n",
       "       1., 1., 1., 1., 1., 1., 1., 1., 1., 1., 1., 1., 1., 1., 1., 1., 1.,\n",
       "       1., 1., 1., 0., 1., 1., 1., 1., 1., 1., 1.])<\/pre>"
      ]
     },
     "metadata":{
      
     },
     "output_type":"display_data"
    }
   ],
   "metadata":{
    "datalore":{
     "node_id":"DTzmVCBEAnZafrM8XMD3rz",
     "type":"CODE",
     "hide_input_from_viewers":true,
     "hide_output_from_viewers":true
    }
   }
  },
  {
   "cell_type":"code",
   "source":[
    "f1 = f1_score(reviews_test['Rating_label'], y_test_predicted)\n",
    "f1"
   ],
   "execution_count":156,
   "outputs":[
    {
     "data":{
      "text\/plain":[
       "0.9271523178807948"
      ]
     },
     "metadata":{
      
     },
     "output_type":"display_data"
    }
   ],
   "metadata":{
    "datalore":{
     "node_id":"JCCNHb35mWhjCEV7tfMDw6",
     "type":"CODE",
     "hide_input_from_viewers":true,
     "hide_output_from_viewers":true
    }
   }
  },
  {
   "cell_type":"code",
   "source":[
    
   ],
   "execution_count":null,
   "outputs":[
    
   ],
   "metadata":{
    "datalore":{
     "node_id":"oNlUx6ljw6ovAU5I2FYuV6",
     "type":"CODE",
     "hide_input_from_viewers":true,
     "hide_output_from_viewers":true
    }
   }
  }
 ],
 "metadata":{
  "kernelspec":{
   "display_name":"Python",
   "language":"python",
   "name":"python"
  },
  "datalore":{
   "computation_mode":"JUPYTER",
   "package_manager":"pip",
   "base_environment":"default",
   "packages":[
    
   ],
   "report_row_ids":[
    
   ],
   "version":3
  }
 },
 "nbformat":4,
 "nbformat_minor":4
}