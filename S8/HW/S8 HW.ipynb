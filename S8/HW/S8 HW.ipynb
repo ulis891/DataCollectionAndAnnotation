{
 "cells":[
  {
   "cell_type":"markdown",
   "source":[
    "# Сбор и разметка данных (семинары)\n",
    "## Урок 8. Работа с данными\n",
    "1. Скачайте датасет House Prices Kaggle со страницы конкурса (https:\/\/www.kaggle.com\/competitions\/house-prices-advanced-regression-techniques\/data) и сохраните его в том же каталоге, что и ваш скрипт или блокнот Python.\n",
    "2. Загрузите датасет в pandas DataFrame под названием df.\n",
    "\n",
    "\n",
    "3. Выполните предварительную обработку данных, выполнив следующие шаги:\n",
    "   \n",
    "   **a**. Определите и обработайте отсутствующие значения в датасете. Определите, в каких столбцах есть отсутствующие значения, и решите, как их обработать (например, заполнить средним, медианой или модой, или отбросить столбцы\/строки с существенными отсутствующими значениями).\n",
    "   \n",
    "   **b**. Проверьте и обработайте любые дублирующиеся строки в датасете. c. Проанализируйте типы данных в каждом столбце и при необходимости преобразуйте их (например, из объектных в числовые типы).\n",
    "\n",
    "\n",
    "4. Проведите разведочный анализ данных (EDA), ответив на следующие вопросы: \n",
    "   \n",
    "   **a**. Каково распределение целевой переменной 'SalePrice'? Есть ли какие-либо выбросы? \n",
    "\n",
    "   **b**. Исследуйте взаимосвязи между целевой переменной и другими характеристиками. Есть ли сильные корреляции? \n",
    "\n",
    "   **c**. Исследуйте распределение и взаимосвязи других важных характеристик, таких как 'OverallQual', 'GrLivArea', 'GarageCars' и т.д. \n",
    "\n",
    "   **d**. Визуализируйте данные, используя соответствующие графики (например, гистограммы, диаграммы рассеяния, квадратные диаграммы), чтобы получить представление о датасете.\n",
    "\n",
    "\n",
    "5. Выполните проектирование признаков путем реализации следующих преобразований: \n",
    "   **a**. Работайте с категориальными переменными, применяя one-hot encoding или label encoding, в зависимости от характера переменной. \n",
    "   **b**. При необходимости создайте новые характеристики, такие как общая площадь или возраст объекта недвижимости, путем объединения существующих характеристик.\n",
    "\n",
    "\n",
    "6. Сохраните очищенный и преобразованный набор данных в новый CSV-файл под названием 'cleaned_house_prices.csv'."
   ],
   "attachments":{
    
   },
   "metadata":{
    "datalore":{
     "node_id":"ksUDtIYmlLyIA5yv1Q8ZfR",
     "type":"MD",
     "hide_input_from_viewers":true,
     "hide_output_from_viewers":true
    }
   }
  },
  {
   "cell_type":"code",
   "source":[
    "import pandas as pd\n",
    "import numpy as np\n",
    "import  matplotlib.pyplot as plt\n",
    "import  matplotlib\n",
    "import seaborn as sns\n",
    "from datetime import datetime"
   ],
   "execution_count":178,
   "outputs":[
    
   ],
   "metadata":{
    "datalore":{
     "node_id":"i1MPLD36p3XiPJORMQIGdd",
     "type":"CODE",
     "hide_input_from_viewers":true,
     "hide_output_from_viewers":true
    }
   }
  },
  {
   "cell_type":"code",
   "source":[
    "df = pd.read_csv('train.csv')"
   ],
   "execution_count":205,
   "outputs":[
    
   ],
   "metadata":{
    "datalore":{
     "node_id":"Ok0o7xXCVaV1LdCEABlLb1",
     "type":"CODE",
     "hide_input_from_viewers":true,
     "hide_output_from_viewers":true
    }
   }
  },
  {
   "cell_type":"markdown",
   "source":[
    "Исследуем датасет"
   ],
   "attachments":{
    
   },
   "metadata":{
    "datalore":{
     "node_id":"p6AIvkzFGsX6wwEWLITcP0",
     "type":"MD",
     "hide_input_from_viewers":true,
     "hide_output_from_viewers":true
    }
   }
  },
  {
   "cell_type":"code",
   "source":[
    "df.head()"
   ],
   "execution_count":206,
   "outputs":[
    {
     "data":{
      "text\/html":[
       "<div>\n",
       "<style scoped>\n",
       "    .dataframe tbody tr th:only-of-type {\n",
       "        vertical-align: middle;\n",
       "    }\n",
       "\n",
       "    .dataframe tbody tr th {\n",
       "        vertical-align: top;\n",
       "    }\n",
       "\n",
       "    .dataframe thead th {\n",
       "        text-align: right;\n",
       "    }\n",
       "<\/style>\n",
       "<table border=\"1\" class=\"dataframe\">\n",
       "  <thead>\n",
       "    <tr style=\"text-align: right;\">\n",
       "      <th><\/th>\n",
       "      <th>Id<\/th>\n",
       "      <th>MSSubClass<\/th>\n",
       "      <th>MSZoning<\/th>\n",
       "      <th>LotFrontage<\/th>\n",
       "      <th>LotArea<\/th>\n",
       "      <th>Street<\/th>\n",
       "      <th>Alley<\/th>\n",
       "      <th>LotShape<\/th>\n",
       "      <th>LandContour<\/th>\n",
       "      <th>Utilities<\/th>\n",
       "      <th>...<\/th>\n",
       "      <th>PoolArea<\/th>\n",
       "      <th>PoolQC<\/th>\n",
       "      <th>Fence<\/th>\n",
       "      <th>MiscFeature<\/th>\n",
       "      <th>MiscVal<\/th>\n",
       "      <th>MoSold<\/th>\n",
       "      <th>YrSold<\/th>\n",
       "      <th>SaleType<\/th>\n",
       "      <th>SaleCondition<\/th>\n",
       "      <th>SalePrice<\/th>\n",
       "    <\/tr>\n",
       "  <\/thead>\n",
       "  <tbody>\n",
       "    <tr>\n",
       "      <th>0<\/th>\n",
       "      <td>1<\/td>\n",
       "      <td>60<\/td>\n",
       "      <td>RL<\/td>\n",
       "      <td>65.0<\/td>\n",
       "      <td>8450<\/td>\n",
       "      <td>Pave<\/td>\n",
       "      <td>NaN<\/td>\n",
       "      <td>Reg<\/td>\n",
       "      <td>Lvl<\/td>\n",
       "      <td>AllPub<\/td>\n",
       "      <td>...<\/td>\n",
       "      <td>0<\/td>\n",
       "      <td>NaN<\/td>\n",
       "      <td>NaN<\/td>\n",
       "      <td>NaN<\/td>\n",
       "      <td>0<\/td>\n",
       "      <td>2<\/td>\n",
       "      <td>2008<\/td>\n",
       "      <td>WD<\/td>\n",
       "      <td>Normal<\/td>\n",
       "      <td>208500<\/td>\n",
       "    <\/tr>\n",
       "    <tr>\n",
       "      <th>1<\/th>\n",
       "      <td>2<\/td>\n",
       "      <td>20<\/td>\n",
       "      <td>RL<\/td>\n",
       "      <td>80.0<\/td>\n",
       "      <td>9600<\/td>\n",
       "      <td>Pave<\/td>\n",
       "      <td>NaN<\/td>\n",
       "      <td>Reg<\/td>\n",
       "      <td>Lvl<\/td>\n",
       "      <td>AllPub<\/td>\n",
       "      <td>...<\/td>\n",
       "      <td>0<\/td>\n",
       "      <td>NaN<\/td>\n",
       "      <td>NaN<\/td>\n",
       "      <td>NaN<\/td>\n",
       "      <td>0<\/td>\n",
       "      <td>5<\/td>\n",
       "      <td>2007<\/td>\n",
       "      <td>WD<\/td>\n",
       "      <td>Normal<\/td>\n",
       "      <td>181500<\/td>\n",
       "    <\/tr>\n",
       "    <tr>\n",
       "      <th>2<\/th>\n",
       "      <td>3<\/td>\n",
       "      <td>60<\/td>\n",
       "      <td>RL<\/td>\n",
       "      <td>68.0<\/td>\n",
       "      <td>11250<\/td>\n",
       "      <td>Pave<\/td>\n",
       "      <td>NaN<\/td>\n",
       "      <td>IR1<\/td>\n",
       "      <td>Lvl<\/td>\n",
       "      <td>AllPub<\/td>\n",
       "      <td>...<\/td>\n",
       "      <td>0<\/td>\n",
       "      <td>NaN<\/td>\n",
       "      <td>NaN<\/td>\n",
       "      <td>NaN<\/td>\n",
       "      <td>0<\/td>\n",
       "      <td>9<\/td>\n",
       "      <td>2008<\/td>\n",
       "      <td>WD<\/td>\n",
       "      <td>Normal<\/td>\n",
       "      <td>223500<\/td>\n",
       "    <\/tr>\n",
       "    <tr>\n",
       "      <th>3<\/th>\n",
       "      <td>4<\/td>\n",
       "      <td>70<\/td>\n",
       "      <td>RL<\/td>\n",
       "      <td>60.0<\/td>\n",
       "      <td>9550<\/td>\n",
       "      <td>Pave<\/td>\n",
       "      <td>NaN<\/td>\n",
       "      <td>IR1<\/td>\n",
       "      <td>Lvl<\/td>\n",
       "      <td>AllPub<\/td>\n",
       "      <td>...<\/td>\n",
       "      <td>0<\/td>\n",
       "      <td>NaN<\/td>\n",
       "      <td>NaN<\/td>\n",
       "      <td>NaN<\/td>\n",
       "      <td>0<\/td>\n",
       "      <td>2<\/td>\n",
       "      <td>2006<\/td>\n",
       "      <td>WD<\/td>\n",
       "      <td>Abnorml<\/td>\n",
       "      <td>140000<\/td>\n",
       "    <\/tr>\n",
       "    <tr>\n",
       "      <th>4<\/th>\n",
       "      <td>5<\/td>\n",
       "      <td>60<\/td>\n",
       "      <td>RL<\/td>\n",
       "      <td>84.0<\/td>\n",
       "      <td>14260<\/td>\n",
       "      <td>Pave<\/td>\n",
       "      <td>NaN<\/td>\n",
       "      <td>IR1<\/td>\n",
       "      <td>Lvl<\/td>\n",
       "      <td>AllPub<\/td>\n",
       "      <td>...<\/td>\n",
       "      <td>0<\/td>\n",
       "      <td>NaN<\/td>\n",
       "      <td>NaN<\/td>\n",
       "      <td>NaN<\/td>\n",
       "      <td>0<\/td>\n",
       "      <td>12<\/td>\n",
       "      <td>2008<\/td>\n",
       "      <td>WD<\/td>\n",
       "      <td>Normal<\/td>\n",
       "      <td>250000<\/td>\n",
       "    <\/tr>\n",
       "  <\/tbody>\n",
       "<\/table>\n",
       "<p>5 rows × 81 columns<\/p>\n",
       "<\/div>"
      ]
     },
     "metadata":{
      
     },
     "output_type":"display_data"
    }
   ],
   "metadata":{
    "datalore":{
     "node_id":"E0s2GTVPyBTT2HPufsGVTW",
     "type":"CODE",
     "hide_input_from_viewers":true,
     "hide_output_from_viewers":true
    }
   }
  },
  {
   "cell_type":"code",
   "source":[
    "df.info()"
   ],
   "execution_count":181,
   "outputs":[
    {
     "name":"stdout",
     "text":[
      "<class 'pandas.core.frame.DataFrame'>\n",
      "RangeIndex: 1460 entries, 0 to 1459\n",
      "Data columns (total 81 columns):\n",
      " #   Column         Non-Null Count  Dtype  \n",
      "---  ------         --------------  -----  \n",
      " 0   Id             1460 non-null   int64  \n",
      " 1   MSSubClass     1460 non-null   int64  \n",
      " 2   MSZoning       1460 non-null   object \n",
      " 3   LotFrontage    1201 non-null   float64\n",
      " 4   LotArea        1460 non-null   int64  \n",
      " 5   Street         1460 non-null   object \n",
      " 6   Alley          91 non-null     object \n",
      " 7   LotShape       1460 non-null   object \n",
      " 8   LandContour    1460 non-null   object \n",
      " 9   Utilities      1460 non-null   object \n",
      " 10  LotConfig      1460 non-null   object \n",
      " 11  LandSlope      1460 non-null   object \n",
      " 12  Neighborhood   1460 non-null   object \n",
      " 13  Condition1     1460 non-null   object \n",
      " 14  Condition2     1460 non-null   object \n",
      " 15  BldgType       1460 non-null   object \n",
      " 16  HouseStyle     1460 non-null   object \n",
      " 17  OverallQual    1460 non-null   int64  \n",
      " 18  OverallCond    1460 non-null   int64  \n",
      " 19  YearBuilt      1460 non-null   int64  \n",
      " 20  YearRemodAdd   1460 non-null   int64  \n",
      " 21  RoofStyle      1460 non-null   object \n",
      " 22  RoofMatl       1460 non-null   object \n",
      " 23  Exterior1st    1460 non-null   object \n",
      " 24  Exterior2nd    1460 non-null   object \n",
      " 25  MasVnrType     1452 non-null   object \n",
      " 26  MasVnrArea     1452 non-null   float64\n",
      " 27  ExterQual      1460 non-null   object \n",
      " 28  ExterCond      1460 non-null   object \n",
      " 29  Foundation     1460 non-null   object \n",
      " 30  BsmtQual       1423 non-null   object \n",
      " 31  BsmtCond       1423 non-null   object \n",
      " 32  BsmtExposure   1422 non-null   object \n",
      " 33  BsmtFinType1   1423 non-null   object \n",
      " 34  BsmtFinSF1     1460 non-null   int64  \n",
      " 35  BsmtFinType2   1422 non-null   object \n",
      " 36  BsmtFinSF2     1460 non-null   int64  \n",
      " 37  BsmtUnfSF      1460 non-null   int64  \n",
      " 38  TotalBsmtSF    1460 non-null   int64  \n",
      " 39  Heating        1460 non-null   object \n",
      " 40  HeatingQC      1460 non-null   object \n",
      " 41  CentralAir     1460 non-null   object \n",
      " 42  Electrical     1459 non-null   object \n",
      " 43  1stFlrSF       1460 non-null   int64  \n",
      " 44  2ndFlrSF       1460 non-null   int64  \n",
      " 45  LowQualFinSF   1460 non-null   int64  \n",
      " 46  GrLivArea      1460 non-null   int64  \n",
      " 47  BsmtFullBath   1460 non-null   int64  \n",
      " 48  BsmtHalfBath   1460 non-null   int64  \n",
      " 49  FullBath       1460 non-null   int64  \n",
      " 50  HalfBath       1460 non-null   int64  \n",
      " 51  BedroomAbvGr   1460 non-null   int64  \n",
      " 52  KitchenAbvGr   1460 non-null   int64  \n",
      " 53  KitchenQual    1460 non-null   object \n",
      " 54  TotRmsAbvGrd   1460 non-null   int64  \n",
      " 55  Functional     1460 non-null   object \n",
      " 56  Fireplaces     1460 non-null   int64  \n",
      " 57  FireplaceQu    770 non-null    object \n",
      " 58  GarageType     1379 non-null   object \n",
      " 59  GarageYrBlt    1379 non-null   float64\n",
      " 60  GarageFinish   1379 non-null   object \n",
      " 61  GarageCars     1460 non-null   int64  \n",
      " 62  GarageArea     1460 non-null   int64  \n",
      " 63  GarageQual     1379 non-null   object \n",
      " 64  GarageCond     1379 non-null   object \n",
      " 65  PavedDrive     1460 non-null   object \n",
      " 66  WoodDeckSF     1460 non-null   int64  \n",
      " 67  OpenPorchSF    1460 non-null   int64  \n",
      " 68  EnclosedPorch  1460 non-null   int64  \n",
      " 69  3SsnPorch      1460 non-null   int64  \n",
      " 70  ScreenPorch    1460 non-null   int64  \n",
      " 71  PoolArea       1460 non-null   int64  \n",
      " 72  PoolQC         7 non-null      object \n",
      " 73  Fence          281 non-null    object \n",
      " 74  MiscFeature    54 non-null     object \n",
      " 75  MiscVal        1460 non-null   int64  \n",
      " 76  MoSold         1460 non-null   int64  \n",
      " 77  YrSold         1460 non-null   int64  \n",
      " 78  SaleType       1460 non-null   object \n",
      " 79  SaleCondition  1460 non-null   object \n",
      " 80  SalePrice      1460 non-null   int64  \n",
      "dtypes: float64(3), int64(35), object(43)\n",
      "memory usage: 924.0+ KB\n"
     ],
     "output_type":"stream"
    }
   ],
   "metadata":{
    "datalore":{
     "node_id":"DQ2jksgwxVCzM7vKtzsgFK",
     "type":"CODE",
     "hide_input_from_viewers":true,
     "hide_output_from_viewers":true
    }
   }
  },
  {
   "cell_type":"code",
   "source":[
    "df.shape"
   ],
   "execution_count":182,
   "outputs":[
    {
     "data":{
      "text\/plain":[
       "(1460, 81)"
      ]
     },
     "metadata":{
      
     },
     "output_type":"display_data"
    }
   ],
   "metadata":{
    "datalore":{
     "node_id":"RRYvaU52qWNmYtErWavqme",
     "type":"CODE",
     "hide_input_from_viewers":true,
     "hide_output_from_viewers":true
    }
   }
  },
  {
   "cell_type":"markdown",
   "source":[
    "Ищем пропуски"
   ],
   "attachments":{
    
   },
   "metadata":{
    "datalore":{
     "node_id":"7GuufpD1Kesn7aIIYhDQUR",
     "type":"MD",
     "hide_input_from_viewers":true,
     "hide_output_from_viewers":true
    }
   }
  },
  {
   "cell_type":"code",
   "source":[
    "df.isnull().sum()"
   ],
   "execution_count":183,
   "outputs":[
    {
     "data":{
      "text\/html":[
       "<pre>Id                 0\n",
       "MSSubClass         0\n",
       "MSZoning           0\n",
       "LotFrontage      259\n",
       "LotArea            0\n",
       "                ... \n",
       "MoSold             0\n",
       "YrSold             0\n",
       "SaleType           0\n",
       "SaleCondition      0\n",
       "SalePrice          0\n",
       "Length: 81, dtype: int64<\/pre>"
      ]
     },
     "metadata":{
      
     },
     "output_type":"display_data"
    }
   ],
   "metadata":{
    "datalore":{
     "node_id":"QQlVZUXANeByk9w4XYLcev",
     "type":"CODE",
     "hide_input_from_viewers":true,
     "hide_output_from_viewers":true
    }
   }
  },
  {
   "cell_type":"markdown",
   "source":[
    "Заменяем пропуски случайными значениями но с вероятностью заполнить наиболее часто встречающимися "
   ],
   "attachments":{
    
   },
   "metadata":{
    "datalore":{
     "node_id":"Ucyy3j28xGJxnTSQjJcOGc",
     "type":"MD",
     "hide_input_from_viewers":true,
     "hide_output_from_viewers":true
    }
   }
  },
  {
   "cell_type":"code",
   "source":[
    "cont = df['MSZoning'].values\n",
    "df['MSZoning'] = df['MSZoning'].fillna(np.random.choice(cont))\n",
    "df['MSZoning'].isnull().sum()"
   ],
   "execution_count":184,
   "outputs":[
    {
     "data":{
      "text\/plain":[
       "0"
      ]
     },
     "metadata":{
      
     },
     "output_type":"display_data"
    }
   ],
   "metadata":{
    "datalore":{
     "node_id":"RV78tfLnqCX4iw5Sw0V1v5",
     "type":"CODE",
     "hide_input_from_viewers":true,
     "hide_output_from_viewers":true
    }
   }
  },
  {
   "cell_type":"markdown",
   "source":[
    "Заменяем пропуски медианными значениями"
   ],
   "attachments":{
    
   },
   "metadata":{
    "datalore":{
     "node_id":"HJVGaUlnAh2yZiqEEy0otU",
     "type":"MD",
     "hide_input_from_viewers":true,
     "hide_output_from_viewers":true
    }
   }
  },
  {
   "cell_type":"code",
   "source":[
    "\n",
    "df['LotFrontage'] = df['LotFrontage'].fillna(df['LotFrontage'].median())\n",
    "df['LotFrontage'].isnull().sum()"
   ],
   "execution_count":185,
   "outputs":[
    {
     "data":{
      "text\/plain":[
       "0"
      ]
     },
     "metadata":{
      
     },
     "output_type":"display_data"
    }
   ],
   "metadata":{
    "datalore":{
     "node_id":"9CPESCFGPxArjbfXvGgyz5",
     "type":"CODE",
     "hide_input_from_viewers":true,
     "hide_output_from_viewers":true
    }
   }
  },
  {
   "cell_type":"markdown",
   "source":[
    "Удаляем дубликаты, но видим что размер не изменился => дубликатов нет"
   ],
   "attachments":{
    
   },
   "metadata":{
    "datalore":{
     "node_id":"0V284PR7gP0bFpnDEHoTNw",
     "type":"MD",
     "hide_input_from_viewers":true,
     "hide_output_from_viewers":true
    }
   }
  },
  {
   "cell_type":"code",
   "source":[
    "\n",
    "df.drop_duplicates()\n",
    "df.shape"
   ],
   "execution_count":187,
   "outputs":[
    {
     "data":{
      "text\/plain":[
       "(1460, 81)"
      ]
     },
     "metadata":{
      
     },
     "output_type":"display_data"
    }
   ],
   "metadata":{
    "datalore":{
     "node_id":"5jA4MuU2ztiU8vBSx6CzfK",
     "type":"CODE",
     "hide_input_from_viewers":true,
     "hide_output_from_viewers":true
    }
   }
  },
  {
   "cell_type":"markdown",
   "source":[
    "Заменяем значения наличия центрального на 1 и 0"
   ],
   "attachments":{
    
   },
   "metadata":{
    "datalore":{
     "node_id":"bgUyxVoOIaQX9l5CufczFC",
     "type":"MD",
     "hide_input_from_viewers":true,
     "hide_output_from_viewers":true
    }
   }
  },
  {
   "cell_type":"code",
   "source":[
    "\n",
    "df['CentralAir'] = df['CentralAir'].replace('Y', 1)\n",
    "df['CentralAir'] = df['CentralAir'].replace('N', 0)"
   ],
   "execution_count":188,
   "outputs":[
    
   ],
   "metadata":{
    "datalore":{
     "node_id":"UDXwDUyKQUuGWAgLQ1JITl",
     "type":"CODE",
     "hide_input_from_viewers":true,
     "hide_output_from_viewers":true
    }
   }
  },
  {
   "cell_type":"markdown",
   "source":[
    "Исследуеи значение стоймости жилья"
   ],
   "attachments":{
    
   },
   "metadata":{
    "datalore":{
     "node_id":"GZIumXOydTCHeViD26tSNP",
     "type":"MD",
     "hide_input_from_viewers":true,
     "hide_output_from_viewers":true
    }
   }
  },
  {
   "cell_type":"code",
   "source":[
    "df['SalePrice'].describe()"
   ],
   "execution_count":189,
   "outputs":[
    {
     "data":{
      "text\/html":[
       "<pre>count      1460.000000\n",
       "mean     180921.195890\n",
       "std       79442.502883\n",
       "min       34900.000000\n",
       "25%      129975.000000\n",
       "50%      163000.000000\n",
       "75%      214000.000000\n",
       "max      755000.000000\n",
       "Name: SalePrice, dtype: float64<\/pre>"
      ]
     },
     "metadata":{
      
     },
     "output_type":"display_data"
    }
   ],
   "metadata":{
    "datalore":{
     "node_id":"ombHVLAnBdappr53iKttld",
     "type":"CODE",
     "hide_input_from_viewers":true,
     "hide_output_from_viewers":true
    }
   }
  },
  {
   "cell_type":"markdown",
   "source":[
    "- Слишком большое стандартное отклонение\n",
    "- Большая разница между минимальным значением и 25-м процентилем.\n",
    "- Большая разница между максимальным значением и 75-м процентилем."
   ],
   "attachments":{
    
   },
   "metadata":{
    "datalore":{
     "node_id":"eISIuzNGYgyFtbCbfr4hrM",
     "type":"MD",
     "hide_input_from_viewers":true,
     "hide_output_from_viewers":true
    }
   }
  },
  {
   "cell_type":"code",
   "source":[
    "\n",
    "f, ax = plt.subplots(figsize=(15, 12))\n",
    "sns.boxplot(df['SalePrice'])"
   ],
   "execution_count":207,
   "outputs":[
    {
     "data":{
      "text\/plain":[
       "<Axes: ylabel='SalePrice'>"
      ]
     },
     "metadata":{
      
     },
     "output_type":"display_data"
    },
    {
     "data":{
      "image\/png":"[encoded data removed]"
     },
     "metadata":{
      "image\/png":{
       
      }
     },
     "output_type":"display_data"
    }
   ],
   "metadata":{
    "datalore":{
     "node_id":"AfdOyEAUw0jKVKHeRQw7kG",
     "type":"CODE",
     "hide_input_from_viewers":true,
     "hide_output_from_viewers":true
    }
   }
  },
  {
   "cell_type":"markdown",
   "source":[
    "видим большое количество выбросов"
   ],
   "attachments":{
    
   },
   "metadata":{
    "datalore":{
     "node_id":"4XXY1n8WalDkBxFUWSRPId",
     "type":"MD",
     "hide_input_from_viewers":true,
     "hide_output_from_viewers":true
    }
   }
  },
  {
   "cell_type":"code",
   "source":[
    "f, ax = plt.subplots(figsize=(18, 17))\n",
    "sns.histplot(df['SalePrice'])"
   ],
   "execution_count":191,
   "outputs":[
    {
     "data":{
      "text\/plain":[
       "<Axes: xlabel='SalePrice', ylabel='Count'>"
      ]
     },
     "metadata":{
      
     },
     "output_type":"display_data"
    },
    {
     "data":{
      "image\/png":"[encoded data removed]"
     },
     "metadata":{
      "image\/png":{
       
      }
     },
     "output_type":"display_data"
    }
   ],
   "metadata":{
    "datalore":{
     "node_id":"u7gkJsd92uhvwerJIB4iGl",
     "type":"CODE",
     "hide_input_from_viewers":true,
     "hide_output_from_viewers":true
    }
   }
  },
  {
   "cell_type":"markdown",
   "source":[
    "Посмотрим на корреляцию значений"
   ],
   "attachments":{
    
   },
   "metadata":{
    "datalore":{
     "node_id":"qnT8HXpxeqNs1pFyMQIgvo",
     "type":"MD",
     "hide_input_from_viewers":true,
     "hide_output_from_viewers":true
    }
   }
  },
  {
   "cell_type":"code",
   "source":[
    "f, ax = plt.subplots(figsize=(15, 15))\n",
    "k = 5\n",
    "corr = df.corr(numeric_only=True)\n",
    "cols = corr.nlargest(k, 'SalePrice')['SalePrice'].index\n",
    "cm = np.corrcoef(df[cols].values.T)\n",
    "hm = sns.heatmap(cm, cbar=True, annot=True, square=True, \n",
    "                 fmt='.2f', annot_kws={'size': 10},  yticklabels=cols.values, xticklabels=cols.values)\n",
    "plt.show()"
   ],
   "execution_count":192,
   "outputs":[
    {
     "data":{
      "image\/png":"[encoded data removed]"
     },
     "metadata":{
      "image\/png":{
       
      }
     },
     "output_type":"display_data"
    }
   ],
   "metadata":{
    "datalore":{
     "node_id":"0RnIROlSvimU1J5jV6tdun",
     "type":"CODE",
     "hide_input_from_viewers":true,
     "hide_output_from_viewers":true
    }
   }
  },
  {
   "cell_type":"markdown",
   "source":[
    "Видим, что наибольшая корреляция с параметрами **GrLivArea** и **SalePrice**"
   ],
   "attachments":{
    
   },
   "metadata":{
    "datalore":{
     "node_id":"z3SZQt7RHFOGaD4GBmIoCJ",
     "type":"MD",
     "hide_input_from_viewers":true,
     "hide_output_from_viewers":true
    }
   }
  },
  {
   "cell_type":"code",
   "source":[
    "f, ax = plt.subplots(figsize=(15, 15))\n",
    "plt.scatter(x = df['GrLivArea'], y=df['SalePrice'])\n",
    "plt.ylabel('SalePrice', fontsize=15)\n",
    "plt.xlabel('GrLivArea', fontsize=15)"
   ],
   "execution_count":193,
   "outputs":[
    {
     "data":{
      "text\/plain":[
       "Text(0.5, 0, 'GrLivArea')"
      ]
     },
     "metadata":{
      
     },
     "output_type":"display_data"
    },
    {
     "data":{
      "image\/png":"[encoded data removed]"
     },
     "metadata":{
      "image\/png":{
       
      }
     },
     "output_type":"display_data"
    }
   ],
   "metadata":{
    "datalore":{
     "node_id":"8tw8DIqlB5sXZWn6qA7x3N",
     "type":"CODE",
     "hide_input_from_viewers":true,
     "hide_output_from_viewers":true
    }
   }
  },
  {
   "cell_type":"markdown",
   "source":[
    "Избавляемся от выбросов в GrLivArea"
   ],
   "attachments":{
    
   },
   "metadata":{
    "datalore":{
     "node_id":"jsnK4jiUL44MzF1r8VX0hJ",
     "type":"MD",
     "hide_input_from_viewers":true,
     "hide_output_from_viewers":true
    }
   }
  },
  {
   "cell_type":"code",
   "source":[
    "df = df.drop(df[df.GrLivArea > 4000].index)\n",
    "df"
   ],
   "execution_count":208,
   "outputs":[
    {
     "data":{
      "text\/html":[
       "<div>\n",
       "<style scoped>\n",
       "    .dataframe tbody tr th:only-of-type {\n",
       "        vertical-align: middle;\n",
       "    }\n",
       "\n",
       "    .dataframe tbody tr th {\n",
       "        vertical-align: top;\n",
       "    }\n",
       "\n",
       "    .dataframe thead th {\n",
       "        text-align: right;\n",
       "    }\n",
       "<\/style>\n",
       "<table border=\"1\" class=\"dataframe\">\n",
       "  <thead>\n",
       "    <tr style=\"text-align: right;\">\n",
       "      <th><\/th>\n",
       "      <th>Id<\/th>\n",
       "      <th>MSSubClass<\/th>\n",
       "      <th>MSZoning<\/th>\n",
       "      <th>LotFrontage<\/th>\n",
       "      <th>LotArea<\/th>\n",
       "      <th>Street<\/th>\n",
       "      <th>Alley<\/th>\n",
       "      <th>LotShape<\/th>\n",
       "      <th>LandContour<\/th>\n",
       "      <th>Utilities<\/th>\n",
       "      <th>...<\/th>\n",
       "      <th>PoolArea<\/th>\n",
       "      <th>PoolQC<\/th>\n",
       "      <th>Fence<\/th>\n",
       "      <th>MiscFeature<\/th>\n",
       "      <th>MiscVal<\/th>\n",
       "      <th>MoSold<\/th>\n",
       "      <th>YrSold<\/th>\n",
       "      <th>SaleType<\/th>\n",
       "      <th>SaleCondition<\/th>\n",
       "      <th>SalePrice<\/th>\n",
       "    <\/tr>\n",
       "  <\/thead>\n",
       "  <tbody>\n",
       "    <tr>\n",
       "      <th>0<\/th>\n",
       "      <td>1<\/td>\n",
       "      <td>60<\/td>\n",
       "      <td>RL<\/td>\n",
       "      <td>65.0<\/td>\n",
       "      <td>8450<\/td>\n",
       "      <td>Pave<\/td>\n",
       "      <td>NaN<\/td>\n",
       "      <td>Reg<\/td>\n",
       "      <td>Lvl<\/td>\n",
       "      <td>AllPub<\/td>\n",
       "      <td>...<\/td>\n",
       "      <td>0<\/td>\n",
       "      <td>NaN<\/td>\n",
       "      <td>NaN<\/td>\n",
       "      <td>NaN<\/td>\n",
       "      <td>0<\/td>\n",
       "      <td>2<\/td>\n",
       "      <td>2008<\/td>\n",
       "      <td>WD<\/td>\n",
       "      <td>Normal<\/td>\n",
       "      <td>208500<\/td>\n",
       "    <\/tr>\n",
       "    <tr>\n",
       "      <th>1<\/th>\n",
       "      <td>2<\/td>\n",
       "      <td>20<\/td>\n",
       "      <td>RL<\/td>\n",
       "      <td>80.0<\/td>\n",
       "      <td>9600<\/td>\n",
       "      <td>Pave<\/td>\n",
       "      <td>NaN<\/td>\n",
       "      <td>Reg<\/td>\n",
       "      <td>Lvl<\/td>\n",
       "      <td>AllPub<\/td>\n",
       "      <td>...<\/td>\n",
       "      <td>0<\/td>\n",
       "      <td>NaN<\/td>\n",
       "      <td>NaN<\/td>\n",
       "      <td>NaN<\/td>\n",
       "      <td>0<\/td>\n",
       "      <td>5<\/td>\n",
       "      <td>2007<\/td>\n",
       "      <td>WD<\/td>\n",
       "      <td>Normal<\/td>\n",
       "      <td>181500<\/td>\n",
       "    <\/tr>\n",
       "    <tr>\n",
       "      <th>2<\/th>\n",
       "      <td>3<\/td>\n",
       "      <td>60<\/td>\n",
       "      <td>RL<\/td>\n",
       "      <td>68.0<\/td>\n",
       "      <td>11250<\/td>\n",
       "      <td>Pave<\/td>\n",
       "      <td>NaN<\/td>\n",
       "      <td>IR1<\/td>\n",
       "      <td>Lvl<\/td>\n",
       "      <td>AllPub<\/td>\n",
       "      <td>...<\/td>\n",
       "      <td>0<\/td>\n",
       "      <td>NaN<\/td>\n",
       "      <td>NaN<\/td>\n",
       "      <td>NaN<\/td>\n",
       "      <td>0<\/td>\n",
       "      <td>9<\/td>\n",
       "      <td>2008<\/td>\n",
       "      <td>WD<\/td>\n",
       "      <td>Normal<\/td>\n",
       "      <td>223500<\/td>\n",
       "    <\/tr>\n",
       "    <tr>\n",
       "      <th>3<\/th>\n",
       "      <td>4<\/td>\n",
       "      <td>70<\/td>\n",
       "      <td>RL<\/td>\n",
       "      <td>60.0<\/td>\n",
       "      <td>9550<\/td>\n",
       "      <td>Pave<\/td>\n",
       "      <td>NaN<\/td>\n",
       "      <td>IR1<\/td>\n",
       "      <td>Lvl<\/td>\n",
       "      <td>AllPub<\/td>\n",
       "      <td>...<\/td>\n",
       "      <td>0<\/td>\n",
       "      <td>NaN<\/td>\n",
       "      <td>NaN<\/td>\n",
       "      <td>NaN<\/td>\n",
       "      <td>0<\/td>\n",
       "      <td>2<\/td>\n",
       "      <td>2006<\/td>\n",
       "      <td>WD<\/td>\n",
       "      <td>Abnorml<\/td>\n",
       "      <td>140000<\/td>\n",
       "    <\/tr>\n",
       "    <tr>\n",
       "      <th>4<\/th>\n",
       "      <td>5<\/td>\n",
       "      <td>60<\/td>\n",
       "      <td>RL<\/td>\n",
       "      <td>84.0<\/td>\n",
       "      <td>14260<\/td>\n",
       "      <td>Pave<\/td>\n",
       "      <td>NaN<\/td>\n",
       "      <td>IR1<\/td>\n",
       "      <td>Lvl<\/td>\n",
       "      <td>AllPub<\/td>\n",
       "      <td>...<\/td>\n",
       "      <td>0<\/td>\n",
       "      <td>NaN<\/td>\n",
       "      <td>NaN<\/td>\n",
       "      <td>NaN<\/td>\n",
       "      <td>0<\/td>\n",
       "      <td>12<\/td>\n",
       "      <td>2008<\/td>\n",
       "      <td>WD<\/td>\n",
       "      <td>Normal<\/td>\n",
       "      <td>250000<\/td>\n",
       "    <\/tr>\n",
       "    <tr>\n",
       "      <th>...<\/th>\n",
       "      <td>...<\/td>\n",
       "      <td>...<\/td>\n",
       "      <td>...<\/td>\n",
       "      <td>...<\/td>\n",
       "      <td>...<\/td>\n",
       "      <td>...<\/td>\n",
       "      <td>...<\/td>\n",
       "      <td>...<\/td>\n",
       "      <td>...<\/td>\n",
       "      <td>...<\/td>\n",
       "      <td>...<\/td>\n",
       "      <td>...<\/td>\n",
       "      <td>...<\/td>\n",
       "      <td>...<\/td>\n",
       "      <td>...<\/td>\n",
       "      <td>...<\/td>\n",
       "      <td>...<\/td>\n",
       "      <td>...<\/td>\n",
       "      <td>...<\/td>\n",
       "      <td>...<\/td>\n",
       "      <td>...<\/td>\n",
       "    <\/tr>\n",
       "    <tr>\n",
       "      <th>1455<\/th>\n",
       "      <td>1456<\/td>\n",
       "      <td>60<\/td>\n",
       "      <td>RL<\/td>\n",
       "      <td>62.0<\/td>\n",
       "      <td>7917<\/td>\n",
       "      <td>Pave<\/td>\n",
       "      <td>NaN<\/td>\n",
       "      <td>Reg<\/td>\n",
       "      <td>Lvl<\/td>\n",
       "      <td>AllPub<\/td>\n",
       "      <td>...<\/td>\n",
       "      <td>0<\/td>\n",
       "      <td>NaN<\/td>\n",
       "      <td>NaN<\/td>\n",
       "      <td>NaN<\/td>\n",
       "      <td>0<\/td>\n",
       "      <td>8<\/td>\n",
       "      <td>2007<\/td>\n",
       "      <td>WD<\/td>\n",
       "      <td>Normal<\/td>\n",
       "      <td>175000<\/td>\n",
       "    <\/tr>\n",
       "    <tr>\n",
       "      <th>1456<\/th>\n",
       "      <td>1457<\/td>\n",
       "      <td>20<\/td>\n",
       "      <td>RL<\/td>\n",
       "      <td>85.0<\/td>\n",
       "      <td>13175<\/td>\n",
       "      <td>Pave<\/td>\n",
       "      <td>NaN<\/td>\n",
       "      <td>Reg<\/td>\n",
       "      <td>Lvl<\/td>\n",
       "      <td>AllPub<\/td>\n",
       "      <td>...<\/td>\n",
       "      <td>0<\/td>\n",
       "      <td>NaN<\/td>\n",
       "      <td>MnPrv<\/td>\n",
       "      <td>NaN<\/td>\n",
       "      <td>0<\/td>\n",
       "      <td>2<\/td>\n",
       "      <td>2010<\/td>\n",
       "      <td>WD<\/td>\n",
       "      <td>Normal<\/td>\n",
       "      <td>210000<\/td>\n",
       "    <\/tr>\n",
       "    <tr>\n",
       "      <th>1457<\/th>\n",
       "      <td>1458<\/td>\n",
       "      <td>70<\/td>\n",
       "      <td>RL<\/td>\n",
       "      <td>66.0<\/td>\n",
       "      <td>9042<\/td>\n",
       "      <td>Pave<\/td>\n",
       "      <td>NaN<\/td>\n",
       "      <td>Reg<\/td>\n",
       "      <td>Lvl<\/td>\n",
       "      <td>AllPub<\/td>\n",
       "      <td>...<\/td>\n",
       "      <td>0<\/td>\n",
       "      <td>NaN<\/td>\n",
       "      <td>GdPrv<\/td>\n",
       "      <td>Shed<\/td>\n",
       "      <td>2500<\/td>\n",
       "      <td>5<\/td>\n",
       "      <td>2010<\/td>\n",
       "      <td>WD<\/td>\n",
       "      <td>Normal<\/td>\n",
       "      <td>266500<\/td>\n",
       "    <\/tr>\n",
       "    <tr>\n",
       "      <th>1458<\/th>\n",
       "      <td>1459<\/td>\n",
       "      <td>20<\/td>\n",
       "      <td>RL<\/td>\n",
       "      <td>68.0<\/td>\n",
       "      <td>9717<\/td>\n",
       "      <td>Pave<\/td>\n",
       "      <td>NaN<\/td>\n",
       "      <td>Reg<\/td>\n",
       "      <td>Lvl<\/td>\n",
       "      <td>AllPub<\/td>\n",
       "      <td>...<\/td>\n",
       "      <td>0<\/td>\n",
       "      <td>NaN<\/td>\n",
       "      <td>NaN<\/td>\n",
       "      <td>NaN<\/td>\n",
       "      <td>0<\/td>\n",
       "      <td>4<\/td>\n",
       "      <td>2010<\/td>\n",
       "      <td>WD<\/td>\n",
       "      <td>Normal<\/td>\n",
       "      <td>142125<\/td>\n",
       "    <\/tr>\n",
       "    <tr>\n",
       "      <th>1459<\/th>\n",
       "      <td>1460<\/td>\n",
       "      <td>20<\/td>\n",
       "      <td>RL<\/td>\n",
       "      <td>75.0<\/td>\n",
       "      <td>9937<\/td>\n",
       "      <td>Pave<\/td>\n",
       "      <td>NaN<\/td>\n",
       "      <td>Reg<\/td>\n",
       "      <td>Lvl<\/td>\n",
       "      <td>AllPub<\/td>\n",
       "      <td>...<\/td>\n",
       "      <td>0<\/td>\n",
       "      <td>NaN<\/td>\n",
       "      <td>NaN<\/td>\n",
       "      <td>NaN<\/td>\n",
       "      <td>0<\/td>\n",
       "      <td>6<\/td>\n",
       "      <td>2008<\/td>\n",
       "      <td>WD<\/td>\n",
       "      <td>Normal<\/td>\n",
       "      <td>147500<\/td>\n",
       "    <\/tr>\n",
       "  <\/tbody>\n",
       "<\/table>\n",
       "<p>1456 rows × 81 columns<\/p>\n",
       "<\/div>"
      ]
     },
     "metadata":{
      
     },
     "output_type":"display_data"
    }
   ],
   "metadata":{
    "datalore":{
     "node_id":"4V33YDAJRs8PqG48DXrY1W",
     "type":"CODE",
     "hide_input_from_viewers":true,
     "hide_output_from_viewers":true
    }
   }
  },
  {
   "cell_type":"code",
   "source":[
    "f, ax = plt.subplots(figsize=(15, 15))\n",
    "plt.scatter(x = df['GrLivArea'], y=df['SalePrice'])\n",
    "plt.ylabel('SalePrice', fontsize=15)\n",
    "plt.xlabel('GrLivArea', fontsize=15)"
   ],
   "execution_count":209,
   "outputs":[
    {
     "data":{
      "text\/plain":[
       "Text(0.5, 0, 'GrLivArea')"
      ]
     },
     "metadata":{
      
     },
     "output_type":"display_data"
    },
    {
     "data":{
      "image\/png":"[encoded data removed]"
     },
     "metadata":{
      "image\/png":{
       
      }
     },
     "output_type":"display_data"
    }
   ],
   "metadata":{
    "datalore":{
     "node_id":"5bedlB81ybfqlVpDCi6Pj3",
     "type":"CODE",
     "hide_input_from_viewers":true,
     "hide_output_from_viewers":true
    }
   }
  },
  {
   "cell_type":"code",
   "source":[
    "fig, ax = plt.subplots()\n",
    "ax.scatter(x = df['OverallQual'], y = df['SalePrice'])\n",
    "plt.ylabel('SalePrice', fontsize=13)\n",
    "plt.xlabel('OverallQual', fontsize=13)\n",
    "plt.show()"
   ],
   "execution_count":196,
   "outputs":[
    {
     "data":{
      "image\/png":"[encoded data removed]"
     },
     "metadata":{
      "image\/png":{
       
      }
     },
     "output_type":"display_data"
    }
   ],
   "metadata":{
    "datalore":{
     "node_id":"s71arXJPDGaSphQ6rYmZbO",
     "type":"CODE",
     "hide_input_from_viewers":true,
     "hide_output_from_viewers":true
    }
   }
  },
  {
   "cell_type":"markdown",
   "source":[
    "Создаём новый столбец с возрастом дома"
   ],
   "attachments":{
    
   },
   "metadata":{
    "datalore":{
     "node_id":"nmBZvA0M5960Bgl7dB4UjV",
     "type":"MD",
     "hide_input_from_viewers":true,
     "hide_output_from_viewers":true
    }
   }
  },
  {
   "cell_type":"code",
   "source":[
    "df['age_house'] = datetime.now().year - df.YearBuilt\n",
    "df[['SalePrice', 'age_house']]"
   ],
   "execution_count":202,
   "outputs":[
    {
     "data":{
      "text\/html":[
       "<div>\n",
       "<style scoped>\n",
       "    .dataframe tbody tr th:only-of-type {\n",
       "        vertical-align: middle;\n",
       "    }\n",
       "\n",
       "    .dataframe tbody tr th {\n",
       "        vertical-align: top;\n",
       "    }\n",
       "\n",
       "    .dataframe thead th {\n",
       "        text-align: right;\n",
       "    }\n",
       "<\/style>\n",
       "<table border=\"1\" class=\"dataframe\">\n",
       "  <thead>\n",
       "    <tr style=\"text-align: right;\">\n",
       "      <th><\/th>\n",
       "      <th>SalePrice<\/th>\n",
       "      <th>age_house<\/th>\n",
       "    <\/tr>\n",
       "  <\/thead>\n",
       "  <tbody>\n",
       "    <tr>\n",
       "      <th>0<\/th>\n",
       "      <td>208500<\/td>\n",
       "      <td>20<\/td>\n",
       "    <\/tr>\n",
       "    <tr>\n",
       "      <th>1<\/th>\n",
       "      <td>181500<\/td>\n",
       "      <td>47<\/td>\n",
       "    <\/tr>\n",
       "    <tr>\n",
       "      <th>2<\/th>\n",
       "      <td>223500<\/td>\n",
       "      <td>22<\/td>\n",
       "    <\/tr>\n",
       "    <tr>\n",
       "      <th>3<\/th>\n",
       "      <td>140000<\/td>\n",
       "      <td>108<\/td>\n",
       "    <\/tr>\n",
       "    <tr>\n",
       "      <th>4<\/th>\n",
       "      <td>250000<\/td>\n",
       "      <td>23<\/td>\n",
       "    <\/tr>\n",
       "    <tr>\n",
       "      <th>...<\/th>\n",
       "      <td>...<\/td>\n",
       "      <td>...<\/td>\n",
       "    <\/tr>\n",
       "    <tr>\n",
       "      <th>1455<\/th>\n",
       "      <td>175000<\/td>\n",
       "      <td>24<\/td>\n",
       "    <\/tr>\n",
       "    <tr>\n",
       "      <th>1456<\/th>\n",
       "      <td>210000<\/td>\n",
       "      <td>45<\/td>\n",
       "    <\/tr>\n",
       "    <tr>\n",
       "      <th>1457<\/th>\n",
       "      <td>266500<\/td>\n",
       "      <td>82<\/td>\n",
       "    <\/tr>\n",
       "    <tr>\n",
       "      <th>1458<\/th>\n",
       "      <td>142125<\/td>\n",
       "      <td>73<\/td>\n",
       "    <\/tr>\n",
       "    <tr>\n",
       "      <th>1459<\/th>\n",
       "      <td>147500<\/td>\n",
       "      <td>58<\/td>\n",
       "    <\/tr>\n",
       "  <\/tbody>\n",
       "<\/table>\n",
       "<p>1456 rows × 2 columns<\/p>\n",
       "<\/div>"
      ]
     },
     "metadata":{
      
     },
     "output_type":"display_data"
    }
   ],
   "metadata":{
    "datalore":{
     "node_id":"peYh9JKlg5aay9X4IhwqyE",
     "type":"CODE",
     "hide_input_from_viewers":true,
     "hide_output_from_viewers":true
    }
   }
  },
  {
   "cell_type":"code",
   "source":[
    "f, ax = plt.subplots(figsize=(15, 15))\n",
    "plt.scatter(x = df['age_house'], y=df['SalePrice'])\n",
    "plt.ylabel('SalePrice', fontsize=15)\n",
    "plt.xlabel('age_house', fontsize=15)"
   ],
   "execution_count":203,
   "outputs":[
    {
     "data":{
      "text\/plain":[
       "Text(0.5, 0, 'age_house')"
      ]
     },
     "metadata":{
      
     },
     "output_type":"display_data"
    },
    {
     "data":{
      "image\/png":"[encoded data removed]"
     },
     "metadata":{
      "image\/png":{
       
      }
     },
     "output_type":"display_data"
    }
   ],
   "metadata":{
    "datalore":{
     "node_id":"rvHb2mIfCO9HAiks8S6H9D",
     "type":"CODE",
     "hide_input_from_viewers":true,
     "hide_output_from_viewers":true
    }
   }
  },
  {
   "cell_type":"markdown",
   "source":[
    "Видим, что зависимости от возраста нет"
   ],
   "attachments":{
    
   },
   "metadata":{
    "datalore":{
     "node_id":"n14AwJqVzPbB4tSJ38EPOi",
     "type":"MD",
     "hide_input_from_viewers":true,
     "hide_output_from_viewers":true
    }
   }
  },
  {
   "cell_type":"code",
   "source":[
    "df.to_csv('cleaned_house_prices.csv')"
   ],
   "execution_count":210,
   "outputs":[
    
   ],
   "metadata":{
    "datalore":{
     "node_id":"bUYYOs6QuRgNBLY8Qv7Djq",
     "type":"CODE",
     "hide_input_from_viewers":true,
     "hide_output_from_viewers":true
    }
   }
  },
  {
   "cell_type":"code",
   "source":[
    
   ],
   "execution_count":0,
   "outputs":[
    
   ],
   "metadata":{
    "datalore":{
     "node_id":"TRn1cEWviSQZwC3rjhWrld",
     "type":"CODE",
     "hide_input_from_viewers":true,
     "hide_output_from_viewers":true
    }
   }
  }
 ],
 "metadata":{
  "kernelspec":{
   "display_name":"Python",
   "language":"python",
   "name":"python"
  },
  "datalore":{
   "computation_mode":"JUPYTER",
   "package_manager":"pip",
   "base_environment":"minimal",
   "packages":[
    {
     "name":"seaborn",
     "source":"PIP"
    }
   ],
   "report_row_ids":[
    
   ],
   "version":3
  }
 },
 "nbformat":4,
 "nbformat_minor":4
}